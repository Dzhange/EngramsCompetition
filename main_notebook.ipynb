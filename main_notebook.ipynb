{
 "cells": [
  {
   "cell_type": "code",
   "execution_count": 1,
   "id": "ab0ee3a9",
   "metadata": {},
   "outputs": [
    {
     "ename": "ModuleNotFoundError",
     "evalue": "No module named 'yacs'",
     "output_type": "error",
     "traceback": [
      "\u001b[0;31m---------------------------------------------------------------------------\u001b[0m",
      "\u001b[0;31mModuleNotFoundError\u001b[0m                       Traceback (most recent call last)",
      "\u001b[0;32m/tmp/ipykernel_2713425/4117499059.py\u001b[0m in \u001b[0;36m<module>\u001b[0;34m\u001b[0m\n\u001b[1;32m      7\u001b[0m \u001b[0;32mfrom\u001b[0m \u001b[0mrunge_kutta\u001b[0m \u001b[0;32mimport\u001b[0m \u001b[0mRK4\u001b[0m\u001b[0;34m\u001b[0m\u001b[0;34m\u001b[0m\u001b[0m\n\u001b[1;32m      8\u001b[0m \u001b[0;34m\u001b[0m\u001b[0m\n\u001b[0;32m----> 9\u001b[0;31m \u001b[0;32mfrom\u001b[0m \u001b[0mparamter_parser\u001b[0m \u001b[0;32mimport\u001b[0m \u001b[0mparameter_parser\u001b[0m\u001b[0;34m\u001b[0m\u001b[0;34m\u001b[0m\u001b[0m\n\u001b[0m\u001b[1;32m     10\u001b[0m \u001b[0;34m\u001b[0m\u001b[0m\n\u001b[1;32m     11\u001b[0m \u001b[0;32mfrom\u001b[0m \u001b[0mtqdm\u001b[0m \u001b[0;32mimport\u001b[0m \u001b[0mtqdm\u001b[0m \u001b[0;31m# use tqdm to estimate total running time\u001b[0m\u001b[0;34m\u001b[0m\u001b[0;34m\u001b[0m\u001b[0m\n",
      "\u001b[0;32m~/EngramsCompetition/paramter_parser.py\u001b[0m in \u001b[0;36m<module>\u001b[0;34m\u001b[0m\n\u001b[1;32m      5\u001b[0m \u001b[0;32mimport\u001b[0m \u001b[0mshutil\u001b[0m\u001b[0;34m\u001b[0m\u001b[0;34m\u001b[0m\u001b[0m\n\u001b[1;32m      6\u001b[0m \u001b[0;32mfrom\u001b[0m \u001b[0mos\u001b[0m\u001b[0;34m.\u001b[0m\u001b[0mpath\u001b[0m \u001b[0;32mimport\u001b[0m \u001b[0mjoin\u001b[0m\u001b[0;34m\u001b[0m\u001b[0;34m\u001b[0m\u001b[0m\n\u001b[0;32m----> 7\u001b[0;31m \u001b[0;32mfrom\u001b[0m \u001b[0myacs\u001b[0m\u001b[0;34m.\u001b[0m\u001b[0mconfig\u001b[0m \u001b[0;32mimport\u001b[0m \u001b[0mCfgNode\u001b[0m \u001b[0;32mas\u001b[0m \u001b[0mCN\u001b[0m\u001b[0;34m\u001b[0m\u001b[0;34m\u001b[0m\u001b[0m\n\u001b[0m\u001b[1;32m      8\u001b[0m \u001b[0;32mimport\u001b[0m \u001b[0mnumpy\u001b[0m \u001b[0;32mas\u001b[0m \u001b[0mnp\u001b[0m\u001b[0;34m\u001b[0m\u001b[0;34m\u001b[0m\u001b[0m\n\u001b[1;32m      9\u001b[0m \u001b[0;32mimport\u001b[0m \u001b[0margparse\u001b[0m\u001b[0;34m\u001b[0m\u001b[0;34m\u001b[0m\u001b[0m\n",
      "\u001b[0;31mModuleNotFoundError\u001b[0m: No module named 'yacs'"
     ]
    }
   ],
   "source": [
    "import os\n",
    "from init_neurons import init_nrn\n",
    "# import parameters as param\n",
    "from update_spike_time import updateSpikeTime\n",
    "from update_synapses import updateSyn\n",
    "from raster import plot_conn_raster\n",
    "from runge_kutta import RK4\n",
    "\n",
    "from paramter_parser import parameter_parser\n",
    "\n",
    "from tqdm import tqdm # use tqdm to estimate total running time\n",
    "import argparse\n",
    "\n",
    "def zeroTempVars(neurons):  # Zeros all variables to prevent accidental accumulation of unwanted terms. Just a safety measure, good habit.\n",
    "    # Note: Do not zero solutions, because they are used in calculating next solutions.\n",
    "    for nrn in neurons:\n",
    "        nrn.Input_syn = 0  # Zeroed because ISyn must be added to account for input from multiple neurons. If Isyn was\n",
    "        # simply assigned, the Isyn would not accumulate. But now it must be zeroed.\n",
    "\n",
    "def mainProgramLoop(params, neurons, nc_Matrix):\n",
    "\n",
    "    for t_ind in tqdm(range(params.Ntimes)):\n",
    "        # Records timing of spikes (in t/stepSize)\n",
    "        updateSpikeTime(params, neurons, t_ind)\n",
    "        # Updates the input synaptic current to be used in RK4\n",
    "        updateSyn(params, neurons, t_ind)\n",
    "        # A function to update the solutions for all neurons' D.E.s\n",
    "        RK4(params, neurons)\n",
    "        zeroTempVars(neurons)  # Resets temporary variables like Isyn\n",
    "\n",
    "    plot_conn_raster(params, neurons, 0, nc_Matrix)\n",
    "    return\n",
    "\n",
    "\n",
    "\n",
    "if __name__ == \"__main__\":\n",
    "    \n",
    "    parser = parameter_parser()\n",
    "    params = parser.get_cfg('./logs/quick_expt.yaml')\n",
    "    \n",
    "    neurons, nc_Matrix = init_nrn(params)\n",
    "\n",
    "    # Run Program\n",
    "    mainProgramLoop(params, neurons, nc_Matrix)\n"
   ]
  },
  {
   "cell_type": "code",
   "execution_count": null,
   "id": "fa950feb",
   "metadata": {},
   "outputs": [],
   "source": []
  }
 ],
 "metadata": {
  "kernelspec": {
   "display_name": "Python 3 (ipykernel)",
   "language": "python",
   "name": "python3"
  },
  "language_info": {
   "codemirror_mode": {
    "name": "ipython",
    "version": 3
   },
   "file_extension": ".py",
   "mimetype": "text/x-python",
   "name": "python",
   "nbconvert_exporter": "python",
   "pygments_lexer": "ipython3",
   "version": "3.8.10"
  }
 },
 "nbformat": 4,
 "nbformat_minor": 5
}
