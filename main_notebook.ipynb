{
 "cells": [
  {
   "cell_type": "code",
   "execution_count": 2,
   "id": "ab0ee3a9",
   "metadata": {},
   "outputs": [
    {
     "name": "stderr",
     "output_type": "stream",
     "text": [
      "usage: ipykernel_launcher.py [-h] [--config CONFIG]\n",
      "ipykernel_launcher.py: error: unrecognized arguments: --ip=127.0.0.1 --stdin=9003 --control=9001 --hb=9000 --Session.signature_scheme=\"hmac-sha256\" --Session.key=b\"6a625dc5-c4b2-4461-8964-06cc483b1111\" --shell=9002 --transport=\"tcp\" --iopub=9004 --f=/tmp/tmp-2672661FoQnn1NAx0x3.json\n"
     ]
    },
    {
     "ename": "SystemExit",
     "evalue": "2",
     "output_type": "error",
     "traceback": [
      "An exception has occurred, use %tb to see the full traceback.\n",
      "\u001b[0;31mSystemExit\u001b[0m\u001b[0;31m:\u001b[0m 2\n"
     ]
    }
   ],
   "source": [
    "import os\n",
    "from init_neurons import init_nrn\n",
    "# import parameters as param\n",
    "from update_spike_time import updateSpikeTime\n",
    "from update_synapses import updateSyn\n",
    "from raster import plot_conn_raster\n",
    "from runge_kutta import RK4\n",
    "\n",
    "from paramter_parser import parameter_parser\n",
    "\n",
    "from tqdm import tqdm # use tqdm to estimate total running time\n",
    "import argparse\n",
    "\n",
    "def zeroTempVars(neurons):  # Zeros all variables to prevent accidental accumulation of unwanted terms. Just a safety measure, good habit.\n",
    "    # Note: Do not zero solutions, because they are used in calculating next solutions.\n",
    "    for nrn in neurons:\n",
    "        nrn.Input_syn = 0  # Zeroed because ISyn must be added to account for input from multiple neurons. If Isyn was\n",
    "        # simply assigned, the Isyn would not accumulate. But now it must be zeroed.\n",
    "\n",
    "def mainProgramLoop(params, neurons, nc_Matrix):\n",
    "\n",
    "    for t_ind in tqdm(range(params.Ntimes)):\n",
    "        # Records timing of spikes (in t/stepSize)\n",
    "        updateSpikeTime(params, neurons, t_ind)\n",
    "        # Updates the input synaptic current to be used in RK4\n",
    "        updateSyn(params, neurons, t_ind)\n",
    "        # A function to update the solutions for all neurons' D.E.s\n",
    "        RK4(params, neurons)\n",
    "        zeroTempVars(neurons)  # Resets temporary variables like Isyn\n",
    "\n",
    "    plot_conn_raster(params, neurons, 0, nc_Matrix)\n",
    "    return\n",
    "\n",
    "\n",
    "\n",
    "if __name__ == \"__main__\":\n",
    "    \n",
    "    parser = parameter_parser()\n",
    "    params = parser.get_cfg('./logs/quick_expt.yaml')\n",
    "    \n",
    "    neurons, nc_Matrix = init_nrn(params)\n",
    "\n",
    "    # Run Program\n",
    "    mainProgramLoop(params, neurons, nc_Matrix)\n"
   ]
  },
  {
   "cell_type": "code",
   "execution_count": null,
   "id": "fa950feb",
   "metadata": {},
   "outputs": [],
   "source": []
  }
 ],
 "metadata": {
  "interpreter": {
   "hash": "8bf11547be681f6f6c764171e1e2614d299125e8c420390673b6e640c73d869a"
  },
  "kernelspec": {
   "display_name": "Python 3.7.10 64-bit ('base': conda)",
   "name": "python3"
  },
  "language_info": {
   "codemirror_mode": {
    "name": "ipython",
    "version": 3
   },
   "file_extension": ".py",
   "mimetype": "text/x-python",
   "name": "python",
   "nbconvert_exporter": "python",
   "pygments_lexer": "ipython3",
   "version": "3.7.10"
  }
 },
 "nbformat": 4,
 "nbformat_minor": 5
}
